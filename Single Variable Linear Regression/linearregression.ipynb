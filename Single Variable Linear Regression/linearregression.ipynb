{
 "cells": [
  {
   "cell_type": "code",
   "execution_count": null,
   "id": "10f25ca9",
   "metadata": {
    "scrolled": true
   },
   "outputs": [],
   "source": [
    "import matplotlib.pyplot as plt\n",
    "import numpy as np\n",
    "%matplotlib inline"
   ]
  },
  {
   "cell_type": "code",
   "execution_count": null,
   "id": "8e85e7c5",
   "metadata": {
    "scrolled": true
   },
   "outputs": [],
   "source": [
    "data = [[27,29,31,34,45,62,65,65,68,74,82,90,91,94,97,97,97,97],[35,33,47,88,55,71,70,65,73,76,79,81,85,84,91,83,70,97]]"
   ]
  },
  {
   "cell_type": "code",
   "execution_count": null,
   "id": "e2250139",
   "metadata": {
    "scrolled": true
   },
   "outputs": [],
   "source": [
    "gw = 20\n",
    "gb = -10"
   ]
  },
  {
   "cell_type": "code",
   "execution_count": null,
   "id": "3f7a5e6e",
   "metadata": {
    "scrolled": true
   },
   "outputs": [],
   "source": [
    "def F(w, b, x):\n",
    "    return w*x + b"
   ]
  },
  {
   "cell_type": "code",
   "execution_count": null,
   "id": "fdfa5e75",
   "metadata": {
    "scrolled": true
   },
   "outputs": [],
   "source": [
    "def J(w, b):\n",
    "    e = 0\n",
    "    for i in range(len(data[0])):\n",
    "        e += (F(w, b, data[0][i]) - data[1][i])**2\n",
    "    e /= (len(data[0])*2)\n",
    "    return e"
   ]
  },
  {
   "cell_type": "code",
   "execution_count": null,
   "id": "b6825976",
   "metadata": {
    "scrolled": true
   },
   "outputs": [],
   "source": [
    "def ddwJ(w, b, dw):\n",
    "    return (J(w+dw, b)-J(w,b))/dw"
   ]
  },
  {
   "cell_type": "code",
   "execution_count": null,
   "id": "c958956b",
   "metadata": {
    "scrolled": true
   },
   "outputs": [],
   "source": [
    "def ddbJ(w, b, db):\n",
    "    return (J(w, b+db)-J(w,b))/db"
   ]
  },
  {
   "cell_type": "code",
   "execution_count": null,
   "id": "2140f229",
   "metadata": {
    "scrolled": true
   },
   "outputs": [],
   "source": [
    "def GradientDescent(w, b, alpha):\n",
    "    tempw = w - (alpha*ddwJ(w,b,0.0001))\n",
    "    tempb = b - (alpha*ddbJ(w,b,0.0001))\n",
    "    b = tempb\n",
    "    w = tempw\n",
    "    return [w,b]"
   ]
  },
  {
   "cell_type": "code",
   "execution_count": null,
   "id": "600915bf",
   "metadata": {
    "scrolled": true
   },
   "outputs": [],
   "source": [
    "plt.xlabel(\"Attendance\")\n",
    "plt.ylabel(\"Marks\")\n",
    "while True:\n",
    "    pw,pb = gw,gb\n",
    "    gw,gb = GradientDescent(gw,gb,.0001)\n",
    "    plt.scatter(data[0],data[1])\n",
    "    _x = np.arange(0,100,0.1)\n",
    "    _y = F(gw,gb,_x)\n",
    "    plt.plot(_x,_y)\n",
    "    plt.show()\n",
    "    print(J(gw,gb))\n",
    "    if round(J(pw,pb),3)==round(J(gw,gb),3):\n",
    "        break"
   ]
  }
 ],
 "metadata": {
  "kernelspec": {
   "display_name": "Python 3 (ipykernel)",
   "language": "python",
   "name": "python3"
  },
  "language_info": {
   "codemirror_mode": {
    "name": "ipython",
    "version": 3
   },
   "file_extension": ".py",
   "mimetype": "text/x-python",
   "name": "python",
   "nbconvert_exporter": "python",
   "pygments_lexer": "ipython3",
   "version": "3.11.4"
  }
 },
 "nbformat": 4,
 "nbformat_minor": 5
}
