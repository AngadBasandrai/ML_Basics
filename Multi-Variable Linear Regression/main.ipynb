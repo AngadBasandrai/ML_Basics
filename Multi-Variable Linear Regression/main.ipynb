{
 "cells": [
  {
   "cell_type": "code",
   "execution_count": null,
   "metadata": {},
   "outputs": [],
   "source": [
    "import numpy as np\n",
    "from IPython.display import clear_output\n",
    "import matplotlib.pyplot as plt\n",
    "from time import sleep"
   ]
  },
  {
   "cell_type": "code",
   "execution_count": null,
   "metadata": {},
   "outputs": [],
   "source": [
    "size =  np.array([1700,1725,1735,1745,1760,1790,1850,2020,2040,2075,2095,2100,2100,2105,2150,2180,2200,2230])\n",
    "rooms = np.array([3,3,4,3,3,3,5,4,4,5,4,5,4,5,5,5,6,8])\n",
    "price = np.array([100,120,110,80,150,190,190,195,170,220,220,210,250,290,300,290,310,500])\n",
    "#w = [-0.07586197151882591, 50.28005123740689]\n",
    "#b = 149.9974574034493\n",
    "w = [0,0]\n",
    "b = 0\n",
    "x = np.arange(1600,2300,1)\n",
    "y = np.arange(1,8,.01)"
   ]
  },
  {
   "cell_type": "code",
   "execution_count": null,
   "metadata": {},
   "outputs": [],
   "source": [
    "def predict(w1,w2,b,x1,x2):\n",
    "    return w1*x1 + w2*x2 + b"
   ]
  },
  {
   "cell_type": "code",
   "execution_count": null,
   "metadata": {},
   "outputs": [],
   "source": [
    "def cost(w1,w2,b):\n",
    "    e = 0\n",
    "    for i in range(len(price)):\n",
    "        e += (predict(w1,w2,b,size[i],rooms[i])-price[i])**2\n",
    "    e = e / (2*len(price))\n",
    "    return e"
   ]
  },
  {
   "cell_type": "code",
   "execution_count": null,
   "metadata": {},
   "outputs": [],
   "source": [
    "def dJdw1(w1,w2,b,dw1):\n",
    "    return (cost(w1+dw1,w2,b)-cost(w1,w2,b))/dw1"
   ]
  },
  {
   "cell_type": "code",
   "execution_count": null,
   "metadata": {},
   "outputs": [],
   "source": [
    "def dJdw2(w1,w2,b,dw2):\n",
    "    return (cost(w1,w2+dw2,b)-cost(w1,w2,b))/dw2"
   ]
  },
  {
   "cell_type": "code",
   "execution_count": null,
   "metadata": {},
   "outputs": [],
   "source": [
    "def dJdb(w1,w2,b,db):\n",
    "    return (cost(w1,w2,b+db)-cost(w1,w2,b))/db"
   ]
  },
  {
   "cell_type": "code",
   "execution_count": null,
   "metadata": {},
   "outputs": [],
   "source": [
    "def gradientDescent(w1, w2, b, alpha):\n",
    "    tempw1 = w1 - (alpha*dJdw1(w1,w2,b,0.0001))\n",
    "    tempw2 = w2 - (alpha*dJdw2(w1,w2,b,0.0001))\n",
    "    tempb = b - (alpha*dJdb(w1,w2,b,0.0001))\n",
    "    w1 = tempw1\n",
    "    w2 = tempw2\n",
    "    b = tempb\n",
    "    return [[w1,w2],b]"
   ]
  },
  {
   "cell_type": "code",
   "execution_count": null,
   "metadata": {},
   "outputs": [],
   "source": [
    "while True:\n",
    "    clear_output(wait=True)\n",
    "    pw,pb = w,b\n",
    "    w,b = gradientDescent(w[0],w[1],b,.0000001)\n",
    "    if round(cost(pw[0],pw[1],pb),7)==round(cost(w[0],w[1],b),7):\n",
    "        break"
   ]
  }
 ],
 "metadata": {
  "kernelspec": {
   "display_name": "Python 3 (ipykernel)",
   "language": "python",
   "name": "python3"
  },
  "language_info": {
   "codemirror_mode": {
    "name": "ipython",
    "version": 3
   },
   "file_extension": ".py",
   "mimetype": "text/x-python",
   "name": "python",
   "nbconvert_exporter": "python",
   "pygments_lexer": "ipython3",
   "version": "3.11.4"
  }
 },
 "nbformat": 4,
 "nbformat_minor": 2
}
